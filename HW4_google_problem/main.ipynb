{
 "cells": [
  {
   "cell_type": "markdown",
   "metadata": {},
   "source": [
    "## Question C: Collaboration Network "
   ]
  },
  {
   "cell_type": "code",
   "execution_count": 21,
   "metadata": {},
   "outputs": [],
   "source": [
    "import pandas as pd\n",
    "import numpy as np\n",
    "df = pd.read_excel(\"collab.xlsx\", sheet_name=0)\n",
    "A = df.to_numpy()\n",
    "names = open(\"idNames.txt\").readlines()\n",
    "names = np.array([str(name.strip(\"\\n\").split()[1] + \" \"+ name.strip(\"\\n\").split()[2] ) for name in names])"
   ]
  },
  {
   "cell_type": "markdown",
   "metadata": {},
   "source": [
    "You are given a matrix A in a file “collab.xlsx” that represent collaborations\n",
    "in this community.\n",
    "\n",
    "An entry aij represent the probability that a random surfer starting from the\n",
    "researcher j will jump to the researcher i according to the following procedure:\n",
    "- first he chooses a random paper of j with co-authors\n",
    "- then he chooses a co-author i of that paper at random.\n",
    "\n",
    "Matrix A corresponds to the matrix A of Exercise B.\n",
    "\n",
    "Construct a matrix $A_\\beta$ for $\\beta=0.25$ and apply Power method to compute the ranl of each researcher and list top 5 researchers with their scores."
   ]
  },
  {
   "cell_type": "code",
   "execution_count": 23,
   "metadata": {},
   "outputs": [
    {
     "name": "stdout",
     "output_type": "stream",
     "text": [
      "Converged in 82 iterations.\n",
      "Solution x =  [0.00084371 0.00112893 0.00068446 ... 0.00053779 0.00053779 0.00042788]\n"
     ]
    },
    {
     "data": {
      "text/plain": [
       "array(['NEWMAN, M', 'BARABASI, A', 'SOLE, R', 'JEONG, H', 'YOUNG, M'],\n",
       "      dtype='<U19')"
      ]
     },
     "execution_count": 23,
     "metadata": {},
     "output_type": "execute_result"
    }
   ],
   "source": [
    "beta = 0.25\n",
    "n = A.shape[0]\n",
    "e = [1 for i in range(n)]\n",
    "\n",
    "M = np.array([[1/n for j in range(n)]for i in range(n)])\n",
    "\n",
    "A_beta = (1-beta) * A + beta * M\n",
    "\n",
    "r = np.array([min(A_beta[i,:]) for i in range(n)])\n",
    "\n",
    "alpha = np.dot(e, r)\n",
    "\n",
    "x_0 = 1/alpha * r \n",
    "\n",
    "tolerance = 1e-12\n",
    "max_iter = 100\n",
    "\n",
    "x = x_0 \n",
    "\n",
    "for iter in range(max_iter):\n",
    "    x_next = A_beta @ x\n",
    "    \n",
    "    x_next /= sum(x_next)\n",
    "    if np.linalg.norm(x_next - x, 1) < tolerance:\n",
    "        print(f\"Converged in {iter} iterations.\")\n",
    "        break\n",
    "\n",
    "    x = x_next\n",
    "\n",
    "print(\"Solution x = \", x)\n",
    "idx = np.argsort(x)[::-1].astype('int64')\n",
    "names[idx[:5]]"
   ]
  },
  {
   "cell_type": "code",
   "execution_count": 25,
   "metadata": {},
   "outputs": [
    {
     "data": {
      "text/plain": [
       "True"
      ]
     },
     "execution_count": 25,
     "metadata": {},
     "output_type": "execute_result"
    }
   ],
   "source": [
    "np.allclose(A_beta @ x, x)"
   ]
  }
 ],
 "metadata": {
  "kernelspec": {
   "display_name": "math-venv",
   "language": "python",
   "name": "python3"
  },
  "language_info": {
   "codemirror_mode": {
    "name": "ipython",
    "version": 3
   },
   "file_extension": ".py",
   "mimetype": "text/x-python",
   "name": "python",
   "nbconvert_exporter": "python",
   "pygments_lexer": "ipython3",
   "version": "3.12.3"
  }
 },
 "nbformat": 4,
 "nbformat_minor": 2
}
